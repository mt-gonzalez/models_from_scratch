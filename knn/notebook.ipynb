{
 "cells": [
  {
   "cell_type": "markdown",
   "metadata": {},
   "source": [
    "# Here I will test how my k-nn model works\n",
    "\n",
    "I'll be trying it with the iris dataset to see if it works, so first we import all the tools needed"
   ]
  },
  {
   "cell_type": "code",
   "execution_count": 1,
   "metadata": {},
   "outputs": [],
   "source": [
    "from knn import KNN\n",
    "\n",
    "from sklearn.datasets import load_iris\n",
    "from sklearn.model_selection import train_test_split\n",
    "from sklearn.metrics import accuracy_score\n",
    "\n",
    "iris = load_iris()\n",
    "X = iris.data # Features\n",
    "Y = iris.target # Tags\n",
    "\n",
    "X_train, X_test, Y_train, Y_test = train_test_split(X, Y, test_size=0.3, train_size=0.7, random_state=42)"
   ]
  },
  {
   "cell_type": "markdown",
   "metadata": {},
   "source": [
    "Now we have the data set ready to test the knn implementation"
   ]
  },
  {
   "cell_type": "code",
   "execution_count": 2,
   "metadata": {},
   "outputs": [],
   "source": [
    "knn = KNN(k=3)\n",
    "knn.fit(X_train, Y_train)\n",
    "\n",
    "#Y_predict = [knn.predict(x) for x in X_test]"
   ]
  },
  {
   "cell_type": "markdown",
   "metadata": {},
   "source": [
    "We found the error, it seems that the distances evaluate to None. This was the code which fails:\n",
    "\n",
    "```\n",
    "def gather_distances(self, x_0, d_formula=euclidean_distance):\n",
    "        distances = []\n",
    "        for x in self.X_train:\n",
    "            distances.append(d_formula(x_0, x))\n",
    "        \n",
    "        return distances\n",
    "```\n",
    "The problem was in the distance formula, I FORGOT THE RETURN -_-"
   ]
  },
  {
   "cell_type": "code",
   "execution_count": 3,
   "metadata": {},
   "outputs": [
    {
     "name": "stdout",
     "output_type": "stream",
     "text": [
      "[np.float64(1.2489995996796794), np.float64(0.5385164807134502), np.float64(1.0862780491200217), np.float64(0.648074069840786), np.float64(2.345207879911715), np.float64(0.6557438524301997), np.float64(2.5903667693977237), np.float64(0.6480740698407862), np.float64(3.6578682316343767), np.float64(2.683281572999748), np.float64(0.7071067811865478), np.float64(3.6138621999185307), np.float64(3.7509998667022106), np.float64(3.2372828112477294), np.float64(1.8248287590894656), np.float64(0.670820393249937), np.float64(3.3000000000000003), np.float64(3.443835071544513), np.float64(3.277193921634788), np.float64(0.7211102550927979), np.float64(3.5496478698597698), np.float64(0.6708203932499366), np.float64(2.925747767665559), np.float64(3.7815340802378077), np.float64(0.43588989435406783), np.float64(0.9899494936611662), np.float64(3.769615364994153), np.float64(0.6480740698407861), np.float64(0.8660254037844383), np.float64(0.9486832980505138), np.float64(0.8124038404635955), np.float64(1.438749456993816), np.float64(1.0535653752852738), np.float64(3.3674916480965473), np.float64(1.8601075237738276), np.float64(0.9746794344808963), np.float64(3.6537651812890224), np.float64(3.823610858861032), np.float64(1.1575836902790226), np.float64(0.8602325267042631), np.float64(3.5735136770411273), np.float64(1.2999999999999998), np.float64(3.5791060336346563), np.float64(3.4161381705077445), np.float64(0.754983443527075), np.float64(1.997498435543818), np.float64(1.7349351572897476), np.float64(0.5830951894845297), np.float64(0.9433981132056598), np.float64(2.4020824298928627), np.float64(0.9746794344808962), np.float64(3.845776904605882), np.float64(4.177319714841085), np.float64(0.741619848709566), np.float64(1.8493242008906932), np.float64(3.685105154537656), np.float64(3.6318039594669758), np.float64(3.9357337308308855), np.float64(0.5099019513592785), np.float64(1.6278820596099706), np.float64(3.782856063875548), np.float64(1.407124727947029), np.float64(1.9157244060668017), np.float64(3.8314488121336034), np.float64(0.22360679774997896), np.float64(0.5099019513592788), np.float64(0.6164414002968978), np.float64(1.0049875621120894), np.float64(1.3490737563232043), np.float64(3.551056180912941), np.float64(1.4247806848775015), np.float64(0.6480740698407859), np.float64(1.0440306508910553), np.float64(1.296148139681572), np.float64(1.224744871391589), np.float64(0.30000000000000027), np.float64(3.8961519477556315), np.float64(0.5291502622129183), np.float64(0.6999999999999995), np.float64(3.5623026261113755), np.float64(0.8124038404635965), np.float64(2.090454496036687), np.float64(1.5556349186104048), np.float64(3.5623026261113755), np.float64(1.8973665961010275), np.float64(1.8165902124584952), np.float64(1.6186414056238647), np.float64(3.765634076752546), np.float64(1.6431676725154982), np.float64(3.6565010597564442), np.float64(0.9273618495495711), np.float64(2.0346989949375804), np.float64(1.1045361017187258), np.float64(0.728010988928052), np.float64(1.0954451150103324), np.float64(0.6244997998398398), np.float64(0.5196152422706639), np.float64(0.9643650760992956), np.float64(0.774596669241483), np.float64(3.2939338184001206), np.float64(0.7071067811865478), np.float64(1.3490737563232036), np.float64(3.844476557348217), np.float64(0.7874007874011811), np.float64(1.8138357147217057)]\n"
     ]
    }
   ],
   "source": [
    "neighbours = knn.gather_distances(X_test[0])\n",
    "print(neighbours)"
   ]
  },
  {
   "cell_type": "markdown",
   "metadata": {},
   "source": [
    "Now we have the distances, so I proceed with the next step"
   ]
  }
 ],
 "metadata": {
  "kernelspec": {
   "display_name": "models_from_scratch",
   "language": "python",
   "name": "python3"
  },
  "language_info": {
   "codemirror_mode": {
    "name": "ipython",
    "version": 3
   },
   "file_extension": ".py",
   "mimetype": "text/x-python",
   "name": "python",
   "nbconvert_exporter": "python",
   "pygments_lexer": "ipython3",
   "version": "3.12.7"
  }
 },
 "nbformat": 4,
 "nbformat_minor": 2
}
